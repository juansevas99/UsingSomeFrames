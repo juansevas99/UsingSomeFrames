{
  "nbformat": 4,
  "nbformat_minor": 0,
  "metadata": {
    "colab": {
      "name": "Curso Python.ipynb",
      "provenance": [],
      "authorship_tag": "ABX9TyNG1NIT5s28h9puHZtJIVb/",
      "include_colab_link": true
    },
    "kernelspec": {
      "name": "python3",
      "display_name": "Python 3"
    }
  },
  "cells": [
    {
      "cell_type": "markdown",
      "metadata": {
        "id": "view-in-github",
        "colab_type": "text"
      },
      "source": [
        "<a href=\"https://colab.research.google.com/github/juansevas99/UsingSomeFrames/blob/master/Curso_Python.ipynb\" target=\"_parent\"><img src=\"https://colab.research.google.com/assets/colab-badge.svg\" alt=\"Open In Colab\"/></a>"
      ]
    },
    {
      "cell_type": "code",
      "metadata": {
        "id": "Cl0GcPKE_4ON",
        "outputId": "da6b9b30-186c-4ff0-e1dc-ce23bde7973d",
        "colab": {
          "base_uri": "https://localhost:8080/"
        }
      },
      "source": [
        "mi_tupla=\"daniel\",'hola','estudiar',1,2,2.5\n",
        "print(mi_tupla)\n",
        "print('daniel' in mi_tupla)\n",
        "print(mi_tupla.index('daniel'))\n",
        "\n",
        "#funciones def nombre(parametros):\n",
        "#lista.insert(indice,nombreobjetolista) esta funcion inserta un elemento a una lista en un lugar especifico\n",
        "#lista.append(objeto) esta funcion inserta un elemento al final de la ilsta.\n",
        "#lista.extend([lista que se quiere concatenar]) esta dfuncion sirve para concatenar listas\n",
        "#lista.index(elemento o parametro)\n",
        "#lista.remove(elemento a borrar)\n",
        "#lista.pop() elimina el ultimo de la fila\n",
        "\n",
        "#diccionarios:\n",
        "#clave:valor\n",
        "diccionario1={'Alemania':'Berlin','Francia':'Paris','RU':'Londres','Colombia':'Bogota'}\n",
        "print(diccionario1['Colombia'])\n",
        "diccionario1['Argentina']=\"Buenos Aires\"\n",
        "print(diccionario1['Argentina'])\n",
        "\n",
        "del diccionario1['Colombia']\n",
        "print(diccionario1)\n",
        "\n",
        "pruebatupla='Argentina','Alemania'\n",
        "diccionario2={pruebatupla[0]:'Buenos Aires',pruebatupla[1]:'Berlin'}\n",
        "print(diccionario2)\n",
        "\n",
        "diccionario2['uno adicional']=diccionario1\n",
        "print(diccionario2)\n",
        "print(diccionario2['uno adicional']['RU'])\n",
        "\n",
        "diccionario3={'prueba1':'hola','prueba2':diccionario1}\n",
        "print(diccionario3['prueba2'])\n",
        "type(diccionario3['prueba2'])\n",
        "diccionario3['tupla']=[1,2,3,4,5,6]\n",
        "print(diccionario3)\n",
        "type(tuple(diccionario3['tupla']))\n",
        "\n",
        "diccionario4={'daniel':[1,2,3,5,4,8],'julieth':[4,8,7,5],'ruth':[7,8,9],'daniel':{'vuelve':'hola'}}\n",
        "print(diccionario4.keys())\n",
        "print(set(diccionario4['daniel']))\n",
        "print(type((diccionario4.values())))\n",
        "\n",
        "#funcion if\n",
        "\n",
        "####hagamos un diccionario:\n",
        "\n",
        "\n",
        "\n",
        "\n"
      ],
      "execution_count": 43,
      "outputs": [
        {
          "output_type": "stream",
          "text": [
            "('daniel', 'hola', 'estudiar', 1, 2, 2.5)\n",
            "True\n",
            "0\n",
            "Bogota\n",
            "Buenos Aires\n",
            "{'Alemania': 'Berlin', 'Francia': 'Paris', 'RU': 'Londres', 'Argentina': 'Buenos Aires'}\n",
            "{'Argentina': 'Buenos Aires', 'Alemania': 'Berlin'}\n",
            "{'Argentina': 'Buenos Aires', 'Alemania': 'Berlin', 'uno adicional': {'Alemania': 'Berlin', 'Francia': 'Paris', 'RU': 'Londres', 'Argentina': 'Buenos Aires'}}\n",
            "Londres\n",
            "{'Alemania': 'Berlin', 'Francia': 'Paris', 'RU': 'Londres', 'Argentina': 'Buenos Aires'}\n",
            "{'prueba1': 'hola', 'prueba2': {'Alemania': 'Berlin', 'Francia': 'Paris', 'RU': 'Londres', 'Argentina': 'Buenos Aires'}, 'tupla': [1, 2, 3, 4, 5, 6]}\n",
            "dict_keys(['daniel', 'julieth', 'ruth'])\n",
            "{'vuelve'}\n",
            "<class 'dict_values'>\n"
          ],
          "name": "stdout"
        }
      ]
    }
  ]
}